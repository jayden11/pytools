{
 "metadata": {
  "name": "Speeding Up Python"
 },
 "nbformat": 3,
 "nbformat_minor": 0,
 "worksheets": [
  {
   "cells": [
    {
     "cell_type": "markdown",
     "metadata": {},
     "source": [
      "<style>\n",
      "    h1{\n",
      "        text-align:center;\n",
      "    }\n",
      "    h2{\n",
      "        text-align:center;\n",
      "        font-variant:small-caps;\n",
      "    }\n",
      "</style>\n",
      "# Speeding Python\n",
      "# Python in HPC\n",
      "\n",
      "## Supercomputing 2012\n",
      "\n",
      "Presenters: \n",
      "\n",
      "Andy R. Terrel, PhD  \n",
      "Texas Advanced Computing Center  \n",
      "University of Texas at Austin  \n",
      "\n",
      "Travis Oliphant, PhD  \n",
      "Continuum Analytics \n",
      "\n",
      "Aron Ahmadia, PhD  \n",
      "Supercomputing Laboratory  \n",
      "King Abdullah University of Science and Technoglogy \n",
      "\n",
      "[![Creative Commons License](/files/figures/creative_commons_logo.png)](http://creativecommons.org/licenses/by/3.0/deed.en_US)  \n",
      "\n",
      "![TACC Logo](/files/figures/TACC_logo.png)\n",
      "![Continuum Logo](/files/figures/continuum.png)\n",
      "![KAUST Logo](/files/figures/kaust.png)\n",
      "\n",
      "<script>\n",
      "var bind_remote = function(selector){\n",
      "    var cc = $('<input/>')\n",
      "        .attr('id','azerty')\n",
      "        .fadeTo(0.2,0)\n",
      "        .keydown(\n",
      "        function(event){\n",
      "                if(event.which == IPython.utils.keycodes.LEFT_ARROW){\n",
      "                    console.log('go left');\n",
      "                    IPython.slideshow.prev();\n",
      "                }\n",
      "                else if(event.which == IPython.utils.keycodes.RIGHT_ARROW){\n",
      "                    console.log('go right')\n",
      "                    IPython.slideshow.next();   \n",
      "                }\n",
      "            event.preventDefault();\n",
      "            return false;\n",
      "            })\n",
      "            .focusin(function(){$('#qwerty').button('option','label','Slide Mode Enabled')})\n",
      "            .focusout(function(){$('#qwerty').button('option','label','Enable Slide Mode')})\n",
      "        \n",
      "        var dd = $('<div/>')\n",
      "            .attr('id','qwerty')\n",
      "            .button({label:'slide control'})\n",
      "            .attr('style','float:right')\n",
      "            .click(\n",
      "                function(){\n",
      "                    $('#azerty').focus();\n",
      "                    console.log('...');\n",
      "                })\n",
      "            .keydown(\n",
      "                function(event){\n",
      "                    console.log('event append',event);\n",
      "                event.preventDefault();\n",
      "                return false;\n",
      "                })\n",
      "    var hin = function(){$(selector).fadeTo('slow',1);}\n",
      "    var hout= function(){$(selector).fadeTo('slow',0.3);}        \n",
      "    $(selector)\n",
      "        .append(cc)\n",
      "        .append(dd)\n",
      "        .fadeTo('slow',0.3)\n",
      "    .hover(hin,hout)\n",
      "     \n",
      "}\n",
      "</script>   "
     ]
    },
    {
     "cell_type": "markdown",
     "metadata": {},
     "source": [
      "---\n",
      "\n",
      "## About This Tutorial\n",
      "\n",
      "### PyHPC Tutorial on GitHub\n",
      "\n",
      "These presentation materials are part of a continuously updated tutorial on Python for High Performance Computing.  To get the presentation materials as they were delivered today, please use the SC2012 tag on github.  Future versions of this presentation will be found at:\n",
      "\n",
      "https://github.com/pyhpc/pyhpc-tutorial\n",
      "\n",
      "Please set all permanent bookmarks to this URL.\n",
      "\n",
      "### Direct download of this SC2012 presentation\n",
      "You can download a zip or tar ball from the [github SC2012 tag](https://github.com/pyHPC/pyhpc-tutorial/tags):\n",
      "\n",
      "```\n",
      "wget --no-check-certificate https://github.com/pyhpc/pyhpc-tutorial/zipball/SC2012\n",
      "wget --no-check-certificate https://github.com/pyhpc/pyhpc-tutorial/tarball/SC2012\n",
      "```\n",
      "\n",
      "### \n",
      "2) Checkout from git\n",
      "\n",
      "```\n",
      "git clone https://github.com/pyhpc/pyhpc-tutorial.git\n",
      "```\n",
      "\n",
      "### Viewing the read-only version of this presentation on nbviewer: \n",
      "\n",
      "* http://nbviewer.ipython.org/urls/raw.github.com/pyhpc/pyhpc-tutorial/master/02_Speeding_Python.ipynb"
     ]
    },
    {
     "cell_type": "markdown",
     "metadata": {},
     "source": [
      "--- \n",
      "\n",
      "## Using the Texas Advanced Computing Center IPython Notebooks\n",
      "\n",
      "You will need a modern web browser to interact with the TACC nodes, there are no other requirements.\n",
      "\n",
      "### TACC IPython Notebooks\n",
      "* http://pyhpc01.tacc.utexas.edu/\n",
      "* http://pyhpc02.tacc.utexas.edu/\n",
      "* http://pyhpc03.tacc.utexas.edu/\n",
      "* http://pyhpc04.tacc.utexas.edu/\n",
      "* http://pyhpc05.tacc.utexas.edu/\n",
      "* http://pyhpc06.tacc.utexas.edu/\n",
      "* http://pyhpc07.tacc.utexas.edu/\n",
      "* http://pyhpc08.tacc.utexas.edu/\n",
      "* http://pyhpc09.tacc.utexas.edu/\n",
      "* http://pyhpc10.tacc.utexas.edu/\n",
      "\n",
      "The TACC nodes will not be available after this workshop, please contact the presenters for more permanent hosting solutions."
     ]
    },
    {
     "cell_type": "markdown",
     "metadata": {},
     "source": [
      "---\n",
      "\n",
      "## Interacting with the Tutorial Slides\n",
      "\n",
      "This tutorial is an interactive worksheet designed to encourage you to try out the lessons during the demonstration.  If you are looking at the PDF version of these slides, we encourage you to download the updated version (see previous slide) and try the interactive version.\n",
      "\n",
      "To run the interactive version of this notebook, you will need a Python 2.7 environment including: \n",
      "\n",
      "* IPython version >= 13.0\n",
      "* numpy version >= 1.6\n",
      "* scipy >= 0.10\n",
      "* matplotlib >= 1.0.0\n",
      "\n",
      "Move to the directory containing the tarball and execute:\n",
      "\n",
      "    $ ipython notebook --pylab=inline\n",
      "\n",
      "If you are installing the packages yourself, Continuum Analytics (disclaimer, Travis Oliphant is CEO of this company) provides both free community as well as professional versions of the Anaconda installer, which provides all the packages you will need for this portion of the tutorial. The installer is available from the [Anaconda download page at Continuum Analytics](https://store.continuum.io/cshop/anaconda).\n",
      "\n",
      "You are also welcome to use Enthought's Python Distribution (free for Academic users), available from the [EPD download page at Enthought](http://www.enthought.com/products/epd.php).\n",
      "\n",
      "Unfortunately, you will need to upgrade your EPD's IPython to 0.13 if you go this route, and this may be non-trivial, please see the [Enthought discussion thread here](https://mail.enthought.com/pipermail/epd-users/2012-August/000800.html)."
     ]
    },
    {
     "cell_type": "markdown",
     "metadata": {},
     "source": [
      "---\n",
      "## Presentation mode\n",
      "The slideshow mode is only supported by an IPython development branch version. If you would like to write your own slideshows (the notebooks will work regardless of slideshow capabilities), you will need to install Matthias Bussonnier's slideshow_metadata branch.  Here are some sample command-line instructions.\n",
      "\n",
      "    #!/bin/bash\n",
      "    git clone carreau git://github.com/Carreau/ipython.git # Matthias' IPython fork\n",
      "    git checkout origin/slideshow_metadata                 # Select the right branch\n",
      "    python setup.py develop                                # Install the development version\n",
      "    ipython notebook                                       # Check out the slideshows!"
     ]
    },
    {
     "cell_type": "markdown",
     "metadata": {},
     "source": [
      "---\n",
      "## Slideshow Setup Code"
     ]
    },
    {
     "cell_type": "code",
     "collapsed": false,
     "input": [
      "# The below command starts pylab inline mode, which simplifies syntax for many common \n",
      "# scientific computing commands.  All commands starting with % are IPython extensions.\n",
      "%pylab inline\n",
      "\n",
      "import numpy as np\n",
      "import scipy as sp\n",
      "\n",
      "# The following two lines of code load the slideshow extension and start it,\n",
      "# you only need to run these if you are writing or running your own slideshow\n",
      "\n",
      "%load_ext slidemode\n",
      "%slideshow_mode"
     ],
     "language": "python",
     "metadata": {},
     "outputs": [
      {
       "output_type": "stream",
       "stream": "stdout",
       "text": [
        "\n",
        "Welcome to pylab, a matplotlib-based Python environment [backend: module://IPython.zmq.pylab.backend_inline].\n",
        "For more information, type 'help(pylab)'.\n"
       ]
      },
      {
       "javascript": [
        "\n",
        "var bind_remote = function(selector){\n",
        "    var cc = $('<input/>')\n",
        "        .attr('id','azerty')\n",
        "        .fadeTo(0.2,0)\n",
        "        .keydown(\n",
        "        function(event){\n",
        "                if(event.which == IPython.utils.keycodes.LEFT_ARROW){\n",
        "                    console.log('go left');\n",
        "                    IPython.slideshow.prev();\n",
        "                }\n",
        "                else if(event.which == IPython.utils.keycodes.RIGHT_ARROW){\n",
        "                    console.log('go right')\n",
        "                    IPython.slideshow.next();   \n",
        "                }\n",
        "            event.preventDefault();\n",
        "            return false;\n",
        "            })\n",
        "            .focusin(function(){$('#qwerty').button('option','label','Slide Control Enabled')})\n",
        "            .focusout(function(){$('#qwerty').button('option','label','Enable Slide Control')})\n",
        "        \n",
        "        var dd = $('<div/>')\n",
        "            .attr('id','qwerty')\n",
        "            .button({label:'Enable Slide Control'})\n",
        "            .attr('style','float:right')\n",
        "            .click(\n",
        "                function(){\n",
        "                    $('#azerty').focus();\n",
        "                    console.log('...');\n",
        "                })\n",
        "            .keydown(\n",
        "                function(event){\n",
        "                    console.log('event append',event);\n",
        "                event.preventDefault();\n",
        "                return false;\n",
        "                })\n",
        "    var hin = function(){$(selector).fadeTo('slow',1);}\n",
        "    var hout= function(){$(selector).fadeTo('slow',0.3);}        \n",
        "    $(selector)\n",
        "        .append(cc)\n",
        "        .append(dd)\n",
        "        .fadeTo('slow',0.3)\n",
        "    .hover(hin,hout)\n",
        "     \n",
        "}\n",
        "    \n",
        "var show_line = function(cell,line_number){\n",
        "    cell.code_mirror.showLine(cell.code_mirror.getLineHandle(line_number-1))    }\n",
        "\n",
        "    IPython = (function(IPython) {\n",
        "    \n",
        "    var Presentation = function(){\n",
        "          this.ccell = 0;\n",
        "      }\n",
        "\n",
        "      var is_marked_cell = function(cell){\n",
        "          return (cell.code_mirror.getValue().match(/(\\n)?(<!--|#)?====(-->)?(\\n)?/) != null)\n",
        "      }\n",
        "      Presentation.prototype.create_toolbar = function(){\n",
        "            var pt = $('<div/>').attr('id','toolbar_present').addClass('toolbar');\n",
        "            var that = this;\n",
        "            this.avc = $('<div/>').button({label:that.eta()});\n",
        "            pt.append(this.avc);\n",
        "\n",
        "            $('#toolbar').after(pt);\n",
        "            var ptoolbar = new IPython.ToolBar('#toolbar_present');\n",
        "            IPython.ptoolbar = ptoolbar;\n",
        "            ptoolbar.addButtonsGroup([{label:'Stop', icon:'ui-icon-stop', callback:function(){that.stop()}}])\n",
        "            ptoolbar.addButtonsGroup([\n",
        "                     {label:'Restart from 0', icon:'ui-icon-arrowthickstop-1-w', callback:function(){that.stop(); that.restart(); that.start()}}\n",
        "                     ])\n",
        "            ptoolbar.addButtonsGroup([\n",
        "                     {label:'Prev Slide', icon:'ui-icon-seek-prev', callback:function(){that.prev_group()}},\n",
        "                     {label:'Next Slide', icon:'ui-icon-seek-next', callback:function(){that.next_group()}},\n",
        "                                    ])\n",
        "            ptoolbar.addButtonsGroup([\n",
        "                     {label:'Step Next', icon:'ui-icon-play', callback:function(){that.next()}}\n",
        "                     ])\n",
        "            bind_remote('#toolbar_present');\n",
        "\n",
        "      }\n",
        "\n",
        "      Presentation.prototype.remove_toolbar = function(){\n",
        "          $('#toolbar_present').remove();\n",
        "      }\n",
        "\n",
        "      Presentation.prototype.ngroups = function(){\n",
        "          var cells = IPython.notebook.get_cells();\n",
        "          var cnt =0\n",
        "          for( var i=0; i< cells.length;i++)\n",
        "              if(is_marked_cell(cells[i])) cnt++;\n",
        "          return cnt\n",
        "      }\n",
        "\n",
        "      Presentation.prototype.cgroups = function(){\n",
        "          var cells = IPython.notebook.get_cells();\n",
        "          var cnt =0\n",
        "          for( var i=0; i<= this.ccell ;i++)\n",
        "              if(is_marked_cell(cells[i])) cnt++;\n",
        "          return cnt\n",
        "      }\n",
        "\n",
        "      Presentation.prototype.eta = function(){\n",
        "          return this.cgroups()+'/'+this.ngroups()\n",
        "          }\n",
        "\n",
        "      Presentation.prototype.next_marked_cell_n = function()\n",
        "      {\n",
        "          for(var i=this.ccell+1; i< $('.cell').length; i++)\n",
        "          {\n",
        "              if(is_marked_cell(IPython.notebook.get_cell(i)))\n",
        "                { return i; }\n",
        "          }\n",
        "          return null;\n",
        "      }\n",
        "\n",
        "      Presentation.prototype.prev_marked_cell_n = function()\n",
        "      {\n",
        "          for(var i=this.ccell-1; i> 0; i--)\n",
        "          {\n",
        "              if(is_marked_cell(IPython.notebook.get_cell(i))){\n",
        "                 return i\n",
        "              }\n",
        "          }\n",
        "          return 0;\n",
        "      }\n",
        "\n",
        "      Presentation.prototype.start = function(){\n",
        "          this.restart();\n",
        "          this.resume();\n",
        "      }\n",
        "\n",
        "      Presentation.prototype.restart = function(){\n",
        "          this.ccell = 0;\n",
        "          $(this.avc).remove();\n",
        "          delete this.avc;\n",
        "      }\n",
        "\n",
        "      Presentation.prototype.resume = function(){\n",
        "          this.create_toolbar();\n",
        "          $('#menubar, #pager_splitter, #pager, #header,#toolbar').addClass('pmode');\n",
        "          $('.cell').fadeOut();\n",
        "          if(this.current_is_marked()){\n",
        "              $('.cell:nth('+this.ccell+')').fadeIn();\n",
        "          } else {\n",
        "              for( var i=this.prev_marked_cell_n() ; i<= this.ccell; i++){\n",
        "                  $('.cell:nth('+i+')').fadeIn();\n",
        "              }\n",
        "          }\n",
        "          var that=this;\n",
        "          if(this.avc != undefined)\n",
        "            $(this.avc).button('option','label',that.eta())\n",
        "          return this;\n",
        "      }\n",
        "\n",
        "      Presentation.prototype.stop = function(){\n",
        "          $('.cell').fadeIn();\n",
        "          $('.pmode').removeClass('pmode');\n",
        "          $('div#notebook').removeClass('pove');\n",
        "          this.remove_toolbar();\n",
        "      }\n",
        "\n",
        "      Presentation.prototype.next = function(){\n",
        "          this.ccell = this.ccell+1;\n",
        "          var that = this;\n",
        "          if(this.ccell >= $('.cell').length ){\n",
        "              this.restart();\n",
        "              this.stop();\n",
        "              return;\n",
        "          }\n",
        "          var nnext = this.ccell;\n",
        "          var ncell = IPython.notebook.get_cell(nnext)\n",
        "\n",
        "          if(is_marked_cell(ncell)){\n",
        "              $('.cell').fadeOut(500);\n",
        "              setTimeout(function(){$('.cell:nth('+nnext+')').fadeIn(500)},600);\n",
        "          } else {\n",
        "              setTimeout(function(){$('.cell:nth('+nnext+')').fadeIn(500)},0);\n",
        "          }\n",
        "          $(this.avc).button('option','label',that.eta())\n",
        "          return this;\n",
        "      }\n",
        "\n",
        "      Presentation.prototype.next_group = function(){\n",
        "          this.ccell = this.next_marked_cell_n();\n",
        "          var that = this;\n",
        "          $('.cell').fadeOut(500);\n",
        "          setTimeout(function(){\n",
        "              $('.cell:nth('+that.ccell+')').fadeIn(500)\n",
        "                  },600);\n",
        "          $(this.avc).button('option','label',that.eta())\n",
        "      }\n",
        "\n",
        "      Presentation.prototype.prev_group = function(){\n",
        "          this.ccell = this.prev_marked_cell_n();\n",
        "          var that = this\n",
        "          $('.cell').fadeOut(500);\n",
        "          setTimeout(function(){$('.cell:nth('+that.ccell+')').fadeIn(500)},600);\n",
        "          $(this.avc).button('option','label',that.eta())\n",
        "      }\n",
        "\n",
        "      Presentation.prototype.is_n_marked = function(n){\n",
        "          return is_marked_cell(IPython.notebook.get_cell(n))\n",
        "      }\n",
        "\n",
        "      Presentation.prototype.current_is_marked = function(n){\n",
        "          return is_marked_cell(IPython.notebook.get_cell(this.ccell));\n",
        "      }\n",
        "\n",
        "      Presentation.prototype.prev = function(){\n",
        "          if(is_marked_cell(IPython.notebook.get_cell(this.ccell))){\n",
        "              var pmcell = this.prev_marked_cell_n();\n",
        "              $('.cell').fadeOut(500);\n",
        "              for( var i=pmcell; i< this.ccell ; i++ ){\n",
        "                  (function(val){\n",
        "                      return function(){\n",
        "                                  setTimeout( function(){\n",
        "                                      $('.cell:nth('+val+')').fadeIn(500)\n",
        "                                      },600);\n",
        "                      }\n",
        "                   })(i)();\n",
        "              }\n",
        "          } else {\n",
        "              $('.cell:nth('+this.ccell+')').fadeOut(500);\n",
        "          }\n",
        "          this.ccell = this.ccell -1;\n",
        "          return this;\n",
        "      }\n",
        "\n",
        "      IPython.Presentation = Presentation;\n",
        "      return IPython;\n",
        "\n",
        "    })(IPython);\n",
        "\n",
        "    $('body').append($('<style/>').text('.pmode{ display: none !important }'));\n",
        "    IPython.slideshow = new IPython.Presentation();\n",
        "\n",
        "    var sid = 'start_pmode'\n",
        "    if(($('#'+sid)).length == 0) {\n",
        "          IPython.toolbar.addButtonsGroup([\n",
        "                  {'label'  :'Start Slideshow',\n",
        "                    'icon'  :'ui-icon-image',\n",
        "                    'callback':function(){IPython.slideshow.resume()},'id':sid},\n",
        "              ])\n",
        "         }\n"
       ],
       "output_type": "display_data",
       "text": [
        "<IPython.core.display.Javascript at 0x2b255d0>"
       ]
      }
     ],
     "prompt_number": 1
    },
    {
     "cell_type": "markdown",
     "metadata": {},
     "source": [
      "---\n",
      "## How Slow is Python\n",
      "<!--====-->\n",
      "\n",
      "Let's add one to a million number"
     ]
    },
    {
     "cell_type": "code",
     "collapsed": false,
     "input": [
      "lst = range(1000000) # A pure Python list\n",
      "%timeit [i + 1 for i in lst] # A Python list comprehension (iteration happens in C but with PyObjects)"
     ],
     "language": "python",
     "metadata": {},
     "outputs": [
      {
       "output_type": "stream",
       "stream": "stdout",
       "text": [
        "10 loops, best of 3: 60.8 ms per loop\n"
       ]
      }
     ],
     "prompt_number": 2
    },
    {
     "cell_type": "markdown",
     "metadata": {},
     "source": [
      "---\n",
      "##Why is Python Slow?\n",
      "<!--====-->\n",
      "\n",
      "Dynamic typing requires lots of metadata around variable. \n",
      "\n",
      "* Python uses heavy frame objects during iteration\n",
      "\n",
      "### Solution:\n",
      "* Make an object that has a single type and continuous storage.\n",
      "* Implement common functionality into that object to iterate in C."
     ]
    },
    {
     "cell_type": "code",
     "collapsed": false,
     "input": [
      "arr = np.arange(1000000) # A NumPy list of integers\n",
      "%timeit arr + 1 # Use operator overloading for nice syntax, now iteration is in C with ints"
     ],
     "language": "python",
     "metadata": {},
     "outputs": [
      {
       "output_type": "stream",
       "stream": "stdout",
       "text": [
        "100 loops, best of 3: 2.06 ms per loop\n"
       ]
      }
     ],
     "prompt_number": 3
    },
    {
     "cell_type": "markdown",
     "metadata": {},
     "source": [
      "---\n",
      "## What makes NumPy so much faster?\n",
      "<!--====-->\n",
      "\n",
      "* Data layout\n",
      "  * homogenous: every item takes up the same size block of memory\n",
      "  * single data-type objects\n",
      "  * powerful array scalar types\n",
      "\n",
      "* universal function (ufuncs)\n",
      "  * function that operates on ndarrays in an element-by-element fashion\n",
      "  * vectorized wrapper for a function\n",
      "  * built-in functions are implemented in compiled C code"
     ]
    },
    {
     "cell_type": "markdown",
     "metadata": {},
     "source": [
      "---\n",
      "## Numpy Data layout\n",
      "<!--====-->\n",
      "\n",
      "* homogenous: every item takes up the same size block of memory\n",
      "* single data-type objects\n",
      "* powerful array scalar types\n",
      "\n",
      "![three fundamental](/files/figures/numpy/threefundamental.png)\n",
      "\n"
     ]
    },
    {
     "cell_type": "markdown",
     "metadata": {},
     "source": [
      "---\n",
      "## Numpy Universal Functions (ufuncs)\n",
      "<!--====-->\n",
      "\n",
      "* function that operates on ndarrays in an element-by-element fashion\n",
      "* vectorized wrapper for a function\n",
      "* built-in functions are implemented in compiled C code"
     ]
    },
    {
     "cell_type": "code",
     "collapsed": false,
     "input": [
      "%timeit [sin(i)**2 for i in arr]\n"
     ],
     "language": "python",
     "metadata": {},
     "outputs": [
      {
       "output_type": "stream",
       "stream": "stdout",
       "text": [
        "1 loops, best of 3: 4.39 s per loop\n"
       ]
      }
     ],
     "prompt_number": 4
    },
    {
     "cell_type": "code",
     "collapsed": false,
     "input": [
      "%timeit np.sin(arr)**2"
     ],
     "language": "python",
     "metadata": {},
     "outputs": [
      {
       "output_type": "stream",
       "stream": "stdout",
       "text": [
        "10 loops, best of 3: 54.9 ms per loop\n"
       ]
      }
     ],
     "prompt_number": 5
    },
    {
     "cell_type": "markdown",
     "metadata": {},
     "source": [
      "---\n",
      "## Other Numpy Features to be aware of\n",
      "<!--====-->\n",
      "\n",
      "* Reshaping"
     ]
    },
    {
     "cell_type": "code",
     "collapsed": false,
     "input": [
      "arr2 = arr.reshape((10,100000))\n",
      "print(arr2)"
     ],
     "language": "python",
     "metadata": {},
     "outputs": [
      {
       "output_type": "stream",
       "stream": "stdout",
       "text": [
        "[[     0      1      2 ...,  99997  99998  99999]\n",
        " [100000 100001 100002 ..., 199997 199998 199999]\n",
        " [200000 200001 200002 ..., 299997 299998 299999]\n",
        " ..., \n",
        " [700000 700001 700002 ..., 799997 799998 799999]\n",
        " [800000 800001 800002 ..., 899997 899998 899999]\n",
        " [900000 900001 900002 ..., 999997 999998 999999]]\n"
       ]
      }
     ],
     "prompt_number": 6
    },
    {
     "cell_type": "markdown",
     "metadata": {},
     "source": [
      "* Memory Views"
     ]
    },
    {
     "cell_type": "code",
     "collapsed": false,
     "input": [
      "arr2.view?"
     ],
     "language": "python",
     "metadata": {},
     "outputs": [],
     "prompt_number": 7
    },
    {
     "cell_type": "markdown",
     "metadata": {},
     "source": [
      "* Index Slicing"
     ]
    },
    {
     "cell_type": "code",
     "collapsed": false,
     "input": [
      "x = np.arange(0, 20, 2); y = x**2\n",
      "((y[1:] - y[:-1]) / (x[1:] - x[:-1])) # dy/dx"
     ],
     "language": "python",
     "metadata": {},
     "outputs": [
      {
       "output_type": "pyout",
       "prompt_number": 8,
       "text": [
        "array([ 2,  6, 10, 14, 18, 22, 26, 30, 34])"
       ]
      }
     ],
     "prompt_number": 8
    },
    {
     "cell_type": "markdown",
     "metadata": {},
     "source": [
      "* Fancy Indexing"
     ]
    },
    {
     "cell_type": "code",
     "collapsed": false,
     "input": [
      "evens = arr[arr%2 == 0]\n",
      "print(evens)"
     ],
     "language": "python",
     "metadata": {},
     "outputs": [
      {
       "output_type": "stream",
       "stream": "stdout",
       "text": [
        "[     0      2      4 ..., 999994 999996 999998]\n"
       ]
      }
     ],
     "prompt_number": 9
    },
    {
     "cell_type": "markdown",
     "metadata": {},
     "source": [
      "---\n",
      "## Compiling to C\n",
      "<!--====-->\n",
      "\n",
      "C is faster, and Python is easier to write.  We want both!\n",
      "\n",
      "## Cython\n",
      "* a programming language based on Python\n",
      "* uses extra syntax allowing for optional static type declarations\n",
      "* source code gets translated into optimized C/C++ code and compiled as Python extension modules\n"
     ]
    },
    {
     "cell_type": "markdown",
     "metadata": {},
     "source": [
      "---\n",
      "## Using Cython in IPython\n",
      "<!--====-->\n",
      "\n",
      "In IPython we can make any cell call out to Cython via the cell magic\n",
      "\n",
      "First load the extension"
     ]
    },
    {
     "cell_type": "code",
     "collapsed": false,
     "input": [
      "%load_ext cythonmagic"
     ],
     "language": "python",
     "metadata": {},
     "outputs": [],
     "prompt_number": 10
    },
    {
     "cell_type": "markdown",
     "metadata": {},
     "source": [
      "Now use `%%cython` at the begining of a code cell to call out to Cython."
     ]
    },
    {
     "cell_type": "code",
     "collapsed": false,
     "input": [
      "%%cython\n",
      "def f_cython(int i):\n",
      "    return i**4 + 3*i**2 + 10"
     ],
     "language": "python",
     "metadata": {},
     "outputs": [],
     "prompt_number": 11
    },
    {
     "cell_type": "markdown",
     "metadata": {},
     "source": [
      "Now use Cython function in code:"
     ]
    },
    {
     "cell_type": "code",
     "collapsed": false,
     "input": [
      "f_cython(100)"
     ],
     "language": "python",
     "metadata": {},
     "outputs": [
      {
       "output_type": "pyout",
       "prompt_number": 12,
       "text": [
        "100030010"
       ]
      }
     ],
     "prompt_number": 12
    },
    {
     "cell_type": "markdown",
     "metadata": {},
     "source": [
      "---\n",
      "\n",
      "## How much faster is Cython?\n",
      "<!--====-->\n",
      "\n",
      "The more you are able to provide type information the better the compile. For example f without type information:"
     ]
    },
    {
     "cell_type": "code",
     "collapsed": false,
     "input": [
      "%%cython\n",
      "def f_slow(i):\n",
      "    return i**4 + 3*i**2 + 10"
     ],
     "language": "python",
     "metadata": {},
     "outputs": [],
     "prompt_number": 13
    },
    {
     "cell_type": "code",
     "collapsed": false,
     "input": [
      "%timeit f_slow(100)"
     ],
     "language": "python",
     "metadata": {},
     "outputs": [
      {
       "output_type": "stream",
       "stream": "stdout",
       "text": [
        "1000000 loops, best of 3: 230 ns per loop\n"
       ]
      }
     ],
     "prompt_number": 14
    },
    {
     "cell_type": "code",
     "collapsed": false,
     "input": [
      "%timeit f_cython(100)"
     ],
     "language": "python",
     "metadata": {},
     "outputs": [
      {
       "output_type": "stream",
       "stream": "stdout",
       "text": [
        "10000000 loops, best of 3: 79.9 ns per loop\n"
       ]
      }
     ],
     "prompt_number": 15
    },
    {
     "cell_type": "markdown",
     "metadata": {},
     "source": [
      "---\n",
      "## Declaring Cython variables for C level\n",
      "<!--====-->\n",
      "\n",
      "If you use a variable or function only at the Cython level you can keep it in C via `cdef`:"
     ]
    },
    {
     "cell_type": "code",
     "collapsed": false,
     "input": [
      "%%cython\n",
      "cdef f(double x):\n",
      "    return x**2-x\n",
      "\n",
      "def integrate_f(double a, double b, int N):\n",
      "    cdef int i\n",
      "    cdef double s, dx\n",
      "    s = 0\n",
      "    dx = (b-a)/N\n",
      "    for i in range(N):\n",
      "        s += f(a+i*dx)\n",
      "    return s * dx"
     ],
     "language": "python",
     "metadata": {},
     "outputs": [],
     "prompt_number": 16
    },
    {
     "cell_type": "code",
     "collapsed": false,
     "input": [
      "%timeit integrate_f(1.0, 2.0, 1000)"
     ],
     "language": "python",
     "metadata": {},
     "outputs": [
      {
       "output_type": "stream",
       "stream": "stdout",
       "text": [
        "10000 loops, best of 3: 40.2 us per loop\n"
       ]
      }
     ],
     "prompt_number": 17
    },
    {
     "cell_type": "markdown",
     "metadata": {},
     "source": [
      "The pure Python version:"
     ]
    },
    {
     "cell_type": "code",
     "collapsed": false,
     "input": [
      "def f(x):\n",
      "    return x**2-x\n",
      "\n",
      "def integrate_f(a, b, N):\n",
      "    s = 0\n",
      "    dx = (b-a)/N\n",
      "    for i in range(N):\n",
      "        s += f(a+i*dx)\n",
      "    return s * dx"
     ],
     "language": "python",
     "metadata": {},
     "outputs": [],
     "prompt_number": 18
    },
    {
     "cell_type": "code",
     "collapsed": false,
     "input": [
      "%timeit integrate_f(1.0, 2.0, 1000)"
     ],
     "language": "python",
     "metadata": {},
     "outputs": [
      {
       "output_type": "stream",
       "stream": "stdout",
       "text": [
        "1000 loops, best of 3: 404 us per loop\n"
       ]
      }
     ],
     "prompt_number": 19
    },
    {
     "cell_type": "markdown",
     "metadata": {},
     "source": [
      "---\n",
      "## Using NumPy with Cython\n",
      "<!--====-->\n",
      "\n",
      "You can also use fast accessors to NumPy arrays from Cython:"
     ]
    },
    {
     "cell_type": "code",
     "collapsed": false,
     "input": [
      "%%cython\n",
      "import numpy as np\n",
      "# \"cimport\" is used to import special compile-time information\n",
      "# about the numpy module (this is stored in a file numpy.pxd which is\n",
      "# currently part of the Cython distribution).\n",
      "cimport numpy as np\n",
      "# We now need to fix a datatype for our arrays. I've used the variable\n",
      "# DTYPE for this, which is assigned to the usual NumPy runtime\n",
      "# type info object.\n",
      "DTYPE = np.int\n",
      "# \"ctypedef\" assigns a corresponding compile-time type to DTYPE_t. For\n",
      "# every type in the numpy module there's a corresponding compile-time\n",
      "# type with a _t-suffix.\n",
      "ctypedef np.int_t DTYPE_t\n",
      "# \"def\" can type its arguments but not have a return type. The type of the\n",
      "# arguments for a \"def\" function is checked at run-time when entering the\n",
      "# function.\n",
      "#\n",
      "# The arrays f, g and h is typed as \"np.ndarray\" instances. The only effect\n",
      "# this has is to a) insert checks that the function arguments really are\n",
      "# NumPy arrays, and b) make some attribute access like f.shape[0] much\n",
      "# more efficient. (In this example this doesn't matter though.)\n",
      "def naive_convolve(np.ndarray f, np.ndarray g):\n",
      "    if g.shape[0] % 2 != 1 or g.shape[1] % 2 != 1:\n",
      "        raise ValueError(\"Only odd dimensions on filter supported\")\n",
      "    assert f.dtype == DTYPE and g.dtype == DTYPE\n",
      "    # The \"cdef\" keyword is also used within functions to type variables. It\n",
      "    # can only be used at the top indendation level (there are non-trivial\n",
      "    # problems with allowing them in other places, though we'd love to see\n",
      "    # good and thought out proposals for it).\n",
      "    #\n",
      "    # For the indices, the \"int\" type is used. This corresponds to a C int,\n",
      "    # other C types (like \"unsigned int\") could have been used instead.\n",
      "    # Purists could use \"Py_ssize_t\" which is the proper Python type for\n",
      "    # array indices.\n",
      "    cdef int vmax = f.shape[0]\n",
      "    cdef int wmax = f.shape[1]\n",
      "    cdef int smax = g.shape[0]\n",
      "    cdef int tmax = g.shape[1]\n",
      "    cdef int smid = smax // 2\n",
      "    cdef int tmid = tmax // 2\n",
      "    cdef int xmax = vmax + 2*smid\n",
      "    cdef int ymax = wmax + 2*tmid\n",
      "    cdef np.ndarray h = np.zeros([xmax, ymax], dtype=DTYPE)\n",
      "    cdef int x, y, s, t, v, w\n",
      "    # It is very important to type ALL your variables. You do not get any\n",
      "    # warnings if not, only much slower code (they are implicitly typed as\n",
      "    # Python objects).\n",
      "    cdef int s_from, s_to, t_from, t_to\n",
      "    # For the value variable, we want to use the same data type as is\n",
      "    # stored in the array, so we use \"DTYPE_t\" as defined above.\n",
      "    # NB! An important side-effect of this is that if \"value\" overflows its\n",
      "    # datatype size, it will simply wrap around like in C, rather than raise\n",
      "    # an error like in Python.\n",
      "    cdef DTYPE_t value\n",
      "    for x in range(xmax):\n",
      "        for y in range(ymax):\n",
      "            s_from = max(smid - x, -smid)\n",
      "            s_to = min((xmax - x) - smid, smid + 1)\n",
      "            t_from = max(tmid - y, -tmid)\n",
      "            t_to = min((ymax - y) - tmid, tmid + 1)\n",
      "            value = 0\n",
      "            for s in range(s_from, s_to):\n",
      "                for t in range(t_from, t_to):\n",
      "                    v = x - smid + s\n",
      "                    w = y - tmid + t\n",
      "                    value += g[smid - s, tmid - t] * f[v, w]\n",
      "            h[x, y] = value\n",
      "    return h"
     ],
     "language": "python",
     "metadata": {},
     "outputs": [],
     "prompt_number": 20
    },
    {
     "cell_type": "code",
     "collapsed": false,
     "input": [
      "N=100\n",
      "f = np.arange(N*N, dtype=np.int).reshape((N,N))\n",
      "g = np.arange(81, dtype=np.int).reshape((9, 9))\n",
      "%timeit -n2 -r3 naive_convolve(f, g)"
     ],
     "language": "python",
     "metadata": {},
     "outputs": [
      {
       "output_type": "stream",
       "stream": "stdout",
       "text": [
        "2 loops, best of 3: 1.16 s per loop\n"
       ]
      }
     ],
     "prompt_number": 21
    },
    {
     "cell_type": "markdown",
     "metadata": {},
     "source": [
      "---\n",
      "# Numba -- A Python Compiler for Numpy arrays\n",
      "<!--===-->\n",
      "\n"
     ]
    },
    {
     "cell_type": "code",
     "collapsed": false,
     "input": [
      "import numpy as np\n",
      "from numba import autojit, jit, double"
     ],
     "language": "python",
     "metadata": {},
     "outputs": [],
     "prompt_number": 1
    },
    {
     "cell_type": "markdown",
     "metadata": {},
     "source": [
      "Numba provides two major decorators:  `jit` and `autojit`.  \n",
      "\n",
      "The `jit` decorator returns a compiled version of the function using the input types and the output types of the function.   You can specify the type using `out_type(in_type, ...)` syntax.  Array inputs can be specified using `[:,:]` appended to the type.  \n",
      "\n",
      "The `autojit` decorator does not require you to specify any types.  It watches for what types you call the function with and infers the type of the return.  If there is a previously compiled version of the code available it uses it, if not it generates machine code for the function and then executes that code. "
     ]
    },
    {
     "cell_type": "code",
     "collapsed": false,
     "input": [
      "def sum(arr):\n",
      "    M, N = arr.shape\n",
      "    sum = 0.0\n",
      "    for i in range(M):\n",
      "        for j in range(N):\n",
      "            sum += arr[i,j]\n",
      "    return sum\n",
      "fastsum = jit('f8(f8[:,:])')(sum)\n",
      "flexsum = autojit(sum)"
     ],
     "language": "python",
     "metadata": {},
     "outputs": [],
     "prompt_number": 2
    },
    {
     "cell_type": "code",
     "collapsed": false,
     "input": [
      "arr2d = np.arange(600,dtype=float).reshape(20,30)\n",
      "print sum(arr2d)\n",
      "print fastsum(arr2d)\n",
      "print flexsum(arr2d)\n",
      "print flexsum(arr2d.astype(int))"
     ],
     "language": "python",
     "metadata": {},
     "outputs": [
      {
       "output_type": "stream",
       "stream": "stdout",
       "text": [
        "179700.0\n",
        "179700.0\n",
        "179700.0\n",
        "179700.0"
       ]
      },
      {
       "output_type": "stream",
       "stream": "stdout",
       "text": [
        "\n"
       ]
      }
     ],
     "prompt_number": 3
    },
    {
     "cell_type": "code",
     "collapsed": false,
     "input": [
      "%timeit sum(arr2d)"
     ],
     "language": "python",
     "metadata": {},
     "outputs": [
      {
       "output_type": "stream",
       "stream": "stdout",
       "text": [
        "1000 loops, best of 3: 431 us per loop\n"
       ]
      }
     ],
     "prompt_number": 4
    },
    {
     "cell_type": "code",
     "collapsed": false,
     "input": [
      "%timeit fastsum(arr2d)"
     ],
     "language": "python",
     "metadata": {},
     "outputs": [
      {
       "output_type": "stream",
       "stream": "stdout",
       "text": [
        "100000 loops, best of 3: 2.05 us per loop\n"
       ]
      }
     ],
     "prompt_number": 6
    },
    {
     "cell_type": "code",
     "collapsed": false,
     "input": [
      "%timeit flexsum(arr2d.astype(int))"
     ],
     "language": "python",
     "metadata": {},
     "outputs": [
      {
       "output_type": "stream",
       "stream": "stdout",
       "text": [
        "10000 loops, best of 3: 58.2 us per loop\n"
       ]
      }
     ],
     "prompt_number": 9
    },
    {
     "cell_type": "code",
     "collapsed": false,
     "input": [
      "321 / 2.26 # speedup"
     ],
     "language": "python",
     "metadata": {},
     "outputs": [
      {
       "output_type": "pyout",
       "prompt_number": 27,
       "text": [
        "142.0353982300885"
       ]
      }
     ],
     "prompt_number": 27
    },
    {
     "cell_type": "code",
     "collapsed": false,
     "input": [
      "%timeit arr2d.sum() "
     ],
     "language": "python",
     "metadata": {},
     "outputs": [
      {
       "output_type": "stream",
       "stream": "stdout",
       "text": [
        "100000 loops, best of 3: 7.14 us per loop\n"
       ]
      }
     ],
     "prompt_number": 28
    },
    {
     "cell_type": "code",
     "collapsed": false,
     "input": [
      "6.61 / 2.26 # even provides a speedup over general-purpose NumPy sum"
     ],
     "language": "python",
     "metadata": {},
     "outputs": [
      {
       "output_type": "pyout",
       "prompt_number": 29,
       "text": [
        "2.924778761061947"
       ]
      }
     ],
     "prompt_number": 29
    },
    {
     "cell_type": "markdown",
     "metadata": {},
     "source": [
      "The speed-up is even more pronounced the more inner loops in the code.   Here is an image processing example:"
     ]
    },
    {
     "cell_type": "code",
     "collapsed": false,
     "input": [
      "@jit('void(f8[:,:],f8[:,:],f8[:,:])')\n",
      "def filter(image, filt, output):\n",
      "    M, N = image.shape\n",
      "    m, n = filt.shape\n",
      "    for i in range(m//2, M-m//2):\n",
      "        for j in range(n//2, N-n//2):\n",
      "            result = 0.0\n",
      "            for k in range(m):\n",
      "                for l in range(n):\n",
      "                    result += image[i+k-m//2,j+l-n//2]*filt[k, l]\n",
      "            output[i,j] = result\n",
      "\n",
      "from scipy.misc import lena\n",
      "import time\n",
      "image = lena().astype('double')\n",
      "filt = np.ones((15,15),dtype='double')\n",
      "filt /= filt.sum()\n",
      "output = image.copy()\n",
      "filter(image, filt, output)\n",
      "gray()\n",
      "imshow(output)\n",
      "start = time.time()\n",
      "filter(image[:100,:100], filt, output[:100,:100])\n",
      "fast = time.time() - start\n",
      "start = time.time()\n",
      "filter.py_func(image[:100,:100], filt, output[:100,:100])\n",
      "slow = time.time() - start\n",
      "print \"Python: %f s; Numba: %f ms; Speed up is %f\" % (slow, fast*1000, slow / fast)"
     ],
     "language": "python",
     "metadata": {},
     "outputs": [
      {
       "output_type": "stream",
       "stream": "stdout",
       "text": [
        "Python: 2.039625 s; Numba: 6.991148 ms; Speed up is 291.743921\n"
       ]
      },
      {
       "output_type": "display_data",
       "png": "[encoded data removed]"
      }
     ],
     "prompt_number": "*"
    },
    {
     "cell_type": "markdown",
     "metadata": {},
     "source": [
      "You can call Numba-created functions from other Numba-created functions"
     ]
    },
    {
     "cell_type": "code",
     "collapsed": false,
     "input": [
      "@autojit\n",
      "def mandel(x, y, max_iters):\n",
      "    \"\"\"\n",
      "    Given the real and imaginary parts of a complex number,\n",
      "    determine if it is a candidate for membership in the Mandelbrot\n",
      "    set given a fixed number of iterations.\n",
      "    \"\"\"\n",
      "    i = 0\n",
      "    c = complex(x, y)\n",
      "    z = 0.0j\n",
      "    for i in range(max_iters):\n",
      "        z = z**2 + c\n",
      "        if abs(z)**2 >= 4:\n",
      "            return i\n",
      "\n",
      "    return 255\n",
      "\n",
      "@autojit\n",
      "def create_fractal(min_x, max_x, min_y, max_y, image, iters):\n",
      "    height = image.shape[0]\n",
      "    width = image.shape[1]\n",
      "\n",
      "    pixel_size_x = (max_x - min_x) / width\n",
      "    pixel_size_y = (max_y - min_y) / height\n",
      "    for x in range(width):\n",
      "        real = min_x + x * pixel_size_x\n",
      "        for y in range(height):\n",
      "            imag = min_y + y * pixel_size_y\n",
      "            color = mandel(real, imag, iters)\n",
      "            image[y, x] = color\n",
      "\n",
      "    return image\n",
      "\n",
      "image = np.zeros((500, 750), dtype=np.uint8)\n",
      "imshow(create_fractal(-2.0, 1.0, -1.0, 1.0, image, 20))"
     ],
     "language": "python",
     "metadata": {},
     "outputs": [],
     "prompt_number": "*"
    },
    {
     "cell_type": "code",
     "collapsed": false,
     "input": [
      "%timeit create_fractal(-2.0, 1.0, -1.0, 1.0, image, 20)"
     ],
     "language": "python",
     "metadata": {},
     "outputs": [],
     "prompt_number": "*"
    },
    {
     "cell_type": "code",
     "collapsed": false,
     "input": [
      "%timeit create_fractal.py_func(-2.0, 1.0, -1.0, 1.0, image, 20)"
     ],
     "language": "python",
     "metadata": {},
     "outputs": [],
     "prompt_number": "*"
    },
    {
     "cell_type": "code",
     "collapsed": false,
     "input": [
      "18.9/ 1.28 # speedup of compiling outer-loop (inner-loop mandel call is still optimized)"
     ],
     "language": "python",
     "metadata": {},
     "outputs": [],
     "prompt_number": "*"
    },
    {
     "cell_type": "markdown",
     "metadata": {},
     "source": [
      "Numba works very well for numerical calculations and infers types for variables.  You can over-ride this inference by passing in a locals dictionary to the autojit decorator.   Notice how the code below shows both Python object manipulation and native manipulation"
     ]
    },
    {
     "cell_type": "code",
     "collapsed": false,
     "input": [
      "class MyClass(object):\n",
      "    def mymethod(self, arg):\n",
      "        return arg * 2\n",
      "    \n",
      "@autojit(locals=dict(mydouble=double)) # specify types for local variables\n",
      "def call_method(obj):\n",
      "    print obj.mymethod(\"hello\")   # object result\n",
      "    mydouble = obj.mymethod(10.2) # native double\n",
      "    print mydouble * 2            # native multiplication\n",
      "    \n",
      "call_method(MyClass())"
     ],
     "language": "python",
     "metadata": {},
     "outputs": [
      {
       "output_type": "stream",
       "stream": "stdout",
       "text": [
        "hellohello\n",
        "40.8\n"
       ]
      }
     ],
     "prompt_number": 3
    },
    {
     "cell_type": "markdown",
     "metadata": {},
     "source": [
      "Complex support is available as well."
     ]
    },
    {
     "cell_type": "code",
     "collapsed": false,
     "input": [
      "@autojit\n",
      "def complex_support(real, imag):\n",
      "    c = complex(real, imag)\n",
      "    return (c ** 2).conjugate()\n",
      "\n",
      "c = 2.0 + 4.0j\n",
      "complex_support(c.real, c.imag), (c**2).conjugate()"
     ],
     "language": "python",
     "metadata": {},
     "outputs": [],
     "prompt_number": "*"
    },
    {
     "cell_type": "markdown",
     "metadata": {},
     "source": [
      "We can even create a function that takes a structured array as input."
     ]
    },
    {
     "cell_type": "code",
     "collapsed": false,
     "input": [
      "from numba import struct, jit2\n",
      "record_type = struct([('x', double), ('y', double)])\n",
      "record_dtype = record_type.get_dtype()\n",
      "a = np.array([(1.0, 2.0), (3.0, 4.0)], dtype=record_dtype)\n",
      "\n",
      "@jit2(argtypes=[record_type[:]])\n",
      "def pyth(data):\n",
      "    result = np.empty_like(data, dtype=np.float64) # return types of numpy functions are inferred\n",
      "    for i in range(data.shape[0]):\n",
      "        result[i] = np.sqrt(data[i].x ** 2 + data[i].y ** 2)\n",
      "\n",
      "    return result\n",
      "\n",
      "print pyth(a)"
     ],
     "language": "python",
     "metadata": {},
     "outputs": [
      {
       "output_type": "stream",
       "stream": "stdout",
       "text": [
        "[ 2.23606798  5.        ]\n"
       ]
      }
     ],
     "prompt_number": 4
    },
    {
     "cell_type": "code",
     "collapsed": false,
     "input": [
      "print pyth.signature # inspect function signature, note inferred return type"
     ],
     "language": "python",
     "metadata": {},
     "outputs": [
      {
       "output_type": "stream",
       "stream": "stdout",
       "text": [
        "double[:] (*)(struct { double x, double y }[:])\n"
       ]
      }
     ],
     "prompt_number": 5
    },
    {
     "cell_type": "code",
     "collapsed": false,
     "input": [
      "[line for line in str(pyth.lfunc).splitlines() if 'sqrt' in line] # note native math calls"
     ],
     "language": "python",
     "metadata": {},
     "outputs": [
      {
       "output_type": "pyout",
       "prompt_number": 6,
       "text": [
        "['  %51 = call double @llvm.sqrt.f64(double %50)']"
       ]
      }
     ],
     "prompt_number": 6
    },
    {
     "cell_type": "markdown",
     "metadata": {},
     "source": [
      "The roadmap for Numba includes better error-handling, support for almost all Python syntax which gets compiled to code that either uses machine instructions or else the Python library run-time, improved support for basic types, and the ability to create objects easily. "
     ]
    },
    {
     "cell_type": "markdown",
     "metadata": {},
     "source": [
      "The commercial product NumbaPro includes additional features:\n",
      "\n",
      "* ability to create ufuncs (fast-vectorize)\n",
      "* ability to target the GPU via CUDA\n",
      "* ability to target multiple-cores  \n",
      "* array-expressions (ability to write NumPy-like code that gets compiled)"
     ]
    }
   ],
   "metadata": {}
  }
 ]
}