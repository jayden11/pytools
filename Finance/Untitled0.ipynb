{
 "metadata": {
  "name": "Untitled0"
 },
 "nbformat": 3,
 "nbformat_minor": 0,
 "worksheets": [
  {
   "cells": [
    {
     "cell_type": "code",
     "collapsed": false,
     "input": [
      "from __future__ import division\n",
      "import pandas as pd\n",
      "import numpy as np\n",
      "from pandas.io.parsers import ExcelWriter\n",
      "\n",
      "pd.set_printoptions(max_rows=1000, max_columns=20)"
     ],
     "language": "python",
     "metadata": {},
     "outputs": [],
     "prompt_number": 24
    },
    {
     "cell_type": "code",
     "collapsed": false,
     "input": [
      "def simple_vol(ticker):\n",
      "    import numpy as np\n",
      "    import datetime as dt\n",
      "    import pandas.io.data as data\n",
      "\n",
      "    now = dt.datetime.now()\n",
      "    month = now.month\n",
      "    year = now.year\n",
      "    day = now.day\n",
      "\n",
      "    sstart = str(month) + '/' + str(day) + '/' + str(year - 1)\n",
      "    eend = str(month) + '/' + str(day) + '/' + str(year)\n",
      "\n",
      "    yahoo = data.get_data_yahoo(ticker, start=sstart, end=eend)\n",
      "    price = yahoo['Adj Close']\n",
      "    \n",
      "    return price.std() / price.mean()"
     ],
     "language": "python",
     "metadata": {},
     "outputs": [],
     "prompt_number": 2
    },
    {
     "cell_type": "code",
     "collapsed": false,
     "input": [
      "nasdaq_file = pd.io.parsers.ExcelFile('NASDAQ_covered_call.xlsx')\n",
      "df = nasdaq_file.parse('Covered Call')\n",
      "nasdaq = df.set_index('Ticker')\n",
      "pos_nasdaq = nasdaq[nasdaq['Annual Return'] > 0]\n",
      "\n",
      "sorts = pos_nasdaq.sort_index(by=['Industry', 'Annual Return'],\n",
      "                                 ascending=False)\n",
      "sorts = sorts[sorts.Industry != 'n/a']"
     ],
     "language": "python",
     "metadata": {},
     "outputs": [],
     "prompt_number": 10
    },
    {
     "cell_type": "code",
     "collapsed": false,
     "input": [
      "industries = []\n",
      "for i in sorts.Industry.unique():\n",
      "    industries.append(str(i))\n",
      "\n",
      "ticks = np.array(sorts.index.unique(), dtype=str)"
     ],
     "language": "python",
     "metadata": {},
     "outputs": [],
     "prompt_number": 11
    },
    {
     "cell_type": "code",
     "collapsed": false,
     "input": [
      "vols = dict([(i, simple_vol(i)) for i in ticks])"
     ],
     "language": "python",
     "metadata": {},
     "outputs": [],
     "prompt_number": 13
    },
    {
     "cell_type": "code",
     "collapsed": false,
     "input": [
      "sorts['Volatility'] = np.nan\n",
      "for i in ticks:\n",
      "    sorts.ix[i, 'Volatility'] = vols[i]"
     ],
     "language": "python",
     "metadata": {},
     "outputs": [],
     "prompt_number": 18
    },
    {
     "cell_type": "code",
     "collapsed": false,
     "input": [
      "file_name = 'NASDAQ_try2.xlsx'\n",
      "writer = ExcelWriter(file_name)\n",
      "sorts.to_excel(writer, sheet_name='With Volatility')\n",
      "writer.save()"
     ],
     "language": "python",
     "metadata": {},
     "outputs": [],
     "prompt_number": 25
    },
    {
     "cell_type": "code",
     "collapsed": false,
     "input": [
      "multi_test = df.set_index(['Industry', 'Ticker'])\n",
      "multi_test.sort_index(inplace=1)\n",
      "file_name2 = 'NASDAQ_multi.xlsx'\n",
      "writer2 = ExcelWriter(file_name2)\n",
      "multi_test.to_excel(writer2, sheet_name='With Volatility')\n",
      "writer2.save()"
     ],
     "language": "python",
     "metadata": {},
     "outputs": [],
     "prompt_number": 43
    },
    {
     "cell_type": "code",
     "collapsed": false,
     "input": [],
     "language": "python",
     "metadata": {},
     "outputs": []
    }
   ],
   "metadata": {}
  }
 ]
}