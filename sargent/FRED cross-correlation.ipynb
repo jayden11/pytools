{
 "metadata": {
  "name": "FRED cross-correlation"
 },
 "nbformat": 3,
 "nbformat_minor": 0,
 "worksheets": [
  {
   "cells": [
    {
     "cell_type": "markdown",
     "metadata": {},
     "source": [
      "## Getting real time data from FRED"
     ]
    },
    {
     "cell_type": "markdown",
     "metadata": {},
     "source": [
      "Import the `pandas` `DataReader` function.\n",
      "\n",
      "The `DataReader` function can get data from FRED, yahoo! Finance, and the fama-french data library"
     ]
    },
    {
     "cell_type": "code",
     "collapsed": false,
     "input": [
      "from pandas.io.data import DataReader\n",
      "\n",
      "# Use the DataReader to get time series data for any item listed by fred.\n",
      "# In this example we get cpi (CPIAUCSL) and m2 money supply (M2SL)\n",
      "cpi_data = DataReader(\"CPIAUCSL\", \"fred\", start='1/1/2005', end='2/1/2013')\n",
      "m2_data = DataReader(\"M2SL\", \"fred\", start='1/1/2005', end='2/1/2013')\n",
      "\n",
      "# Here I just put them together and show the first 15 entries\n",
      "m2_data.join(cpi_data).head(15)"
     ],
     "language": "python",
     "metadata": {},
     "outputs": [
      {
       "html": [
        "<div style=\"max-height:1000px;max-width:1500px;overflow:auto;\">\n",
        "<table border=\"1\" class=\"dataframe\">\n",
        "  <thead>\n",
        "    <tr style=\"text-align: right;\">\n",
        "      <th></th>\n",
        "      <th>M2SL</th>\n",
        "      <th>CPIAUCSL</th>\n",
        "    </tr>\n",
        "    <tr>\n",
        "      <th>DATE</th>\n",
        "      <th></th>\n",
        "      <th></th>\n",
        "    </tr>\n",
        "  </thead>\n",
        "  <tbody>\n",
        "    <tr>\n",
        "      <td><strong>2005-01-01</strong></td>\n",
        "      <td> 6388.0</td>\n",
        "      <td> 191.6</td>\n",
        "    </tr>\n",
        "    <tr>\n",
        "      <td><strong>2005-02-01</strong></td>\n",
        "      <td> 6403.3</td>\n",
        "      <td> 192.4</td>\n",
        "    </tr>\n",
        "    <tr>\n",
        "      <td><strong>2005-03-01</strong></td>\n",
        "      <td> 6416.2</td>\n",
        "      <td> 193.1</td>\n",
        "    </tr>\n",
        "    <tr>\n",
        "      <td><strong>2005-04-01</strong></td>\n",
        "      <td> 6424.4</td>\n",
        "      <td> 193.7</td>\n",
        "    </tr>\n",
        "    <tr>\n",
        "      <td><strong>2005-05-01</strong></td>\n",
        "      <td> 6440.0</td>\n",
        "      <td> 193.6</td>\n",
        "    </tr>\n",
        "    <tr>\n",
        "      <td><strong>2005-06-01</strong></td>\n",
        "      <td> 6476.0</td>\n",
        "      <td> 193.7</td>\n",
        "    </tr>\n",
        "    <tr>\n",
        "      <td><strong>2005-07-01</strong></td>\n",
        "      <td> 6500.7</td>\n",
        "      <td> 194.9</td>\n",
        "    </tr>\n",
        "    <tr>\n",
        "      <td><strong>2005-08-01</strong></td>\n",
        "      <td> 6534.4</td>\n",
        "      <td> 196.1</td>\n",
        "    </tr>\n",
        "    <tr>\n",
        "      <td><strong>2005-09-01</strong></td>\n",
        "      <td> 6572.1</td>\n",
        "      <td> 198.8</td>\n",
        "    </tr>\n",
        "    <tr>\n",
        "      <td><strong>2005-10-01</strong></td>\n",
        "      <td> 6602.6</td>\n",
        "      <td> 199.1</td>\n",
        "    </tr>\n",
        "    <tr>\n",
        "      <td><strong>2005-11-01</strong></td>\n",
        "      <td> 6626.5</td>\n",
        "      <td> 198.1</td>\n",
        "    </tr>\n",
        "    <tr>\n",
        "      <td><strong>2005-12-01</strong></td>\n",
        "      <td> 6654.6</td>\n",
        "      <td> 198.1</td>\n",
        "    </tr>\n",
        "    <tr>\n",
        "      <td><strong>2006-01-01</strong></td>\n",
        "      <td> 6692.1</td>\n",
        "      <td> 199.3</td>\n",
        "    </tr>\n",
        "    <tr>\n",
        "      <td><strong>2006-02-01</strong></td>\n",
        "      <td> 6720.1</td>\n",
        "      <td> 199.4</td>\n",
        "    </tr>\n",
        "    <tr>\n",
        "      <td><strong>2006-03-01</strong></td>\n",
        "      <td> 6731.8</td>\n",
        "      <td> 199.7</td>\n",
        "    </tr>\n",
        "  </tbody>\n",
        "</table>\n",
        "</div>"
       ],
       "output_type": "pyout",
       "prompt_number": 1,
       "text": [
        "              M2SL  CPIAUCSL\n",
        "DATE                        \n",
        "2005-01-01  6388.0     191.6\n",
        "2005-02-01  6403.3     192.4\n",
        "2005-03-01  6416.2     193.1\n",
        "2005-04-01  6424.4     193.7\n",
        "2005-05-01  6440.0     193.6\n",
        "2005-06-01  6476.0     193.7\n",
        "2005-07-01  6500.7     194.9\n",
        "2005-08-01  6534.4     196.1\n",
        "2005-09-01  6572.1     198.8\n",
        "2005-10-01  6602.6     199.1\n",
        "2005-11-01  6626.5     198.1\n",
        "2005-12-01  6654.6     198.1\n",
        "2006-01-01  6692.1     199.3\n",
        "2006-02-01  6720.1     199.4\n",
        "2006-03-01  6731.8     199.7"
       ]
      }
     ],
     "prompt_number": 1
    },
    {
     "cell_type": "markdown",
     "metadata": {},
     "source": [
      "matplotlib has a pre-built function (`matplotlib.pyplot.xcorr`) that will detrend the data, calculate the cross-correlation function, and plot the result.\n",
      "\n",
      "We will call this function below.\n",
      "\n",
      "Note that if you wanted to have more control over the correlation computation you could use `numpy.correlate` (this is what `plt.xcorr` does under the hood)"
     ]
    },
    {
     "cell_type": "code",
     "collapsed": false,
     "input": [
      "import matplotlib.pyplot as plt\n",
      "\n",
      "# Get 1d array of data. This is required by np.correlate\n",
      "cpi = cpi_data.values.squeeze() \n",
      "m2 = m2_data.values.squeeze() \n",
      "\n",
      "data = plt.xcorr(cpi, m2, normed=True)\n",
      "plt.title('Cross-correlation function of m2 and cpi')"
     ],
     "language": "python",
     "metadata": {},
     "outputs": [
      {
       "output_type": "pyout",
       "prompt_number": 2,
       "text": [
        "<matplotlib.text.Text at 0x10581e650>"
       ]
      },
      {
       "output_type": "display_data",
       "png": "[encoded data removed]"
      }
     ],
     "prompt_number": 2
    },
    {
     "cell_type": "code",
     "collapsed": false,
     "input": [],
     "language": "python",
     "metadata": {},
     "outputs": []
    }
   ],
   "metadata": {}
  }
 ]
}